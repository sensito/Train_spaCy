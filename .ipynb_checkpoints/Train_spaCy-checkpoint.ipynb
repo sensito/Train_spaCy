{
 "cells": [
  {
   "cell_type": "markdown",
   "metadata": {},
   "source": [
    "<img src='./images/SpaCy_logo.svg.png'>\n",
    "<h1><center>Spacy</center><h1>\n",
    "    \n",
    "# 1. <a id='Introduction'>Introduccion 🃏 </a>\n",
    "    \n",
    "###  1.1 <a id='What_is_it'>Spacy</a> \n",
    "spaCy es una biblioteca de software de código abierto para procesamiento avanzado de lenguaje natural, escrita en los lenguajes de programación Python y Cython.\n",
    "    \n",
    "> *  Para saber mas ver: [Spacy](https://spacy.io/)\n",
    "### 1.2 <a id='typical_case'>Caso de uso típico para la clasificación de texto.</a> \n",
    "Estoy seguro de que cada uno de nosotros habría enviado un comentario después de comprar un libro en Amazon o pedir comida a rappi. Estas revisiones les ayudan a analizar los problemas y mejorar el servicio. Pero echemos un vistazo a este proceso. Hay millones de reseñas completadas por los clientes, ¿es posible revisar manualmente cada una de ellas y ver si es una apreciación o una reseña negativa?\n",
    "\n",
    "¡Claro que no! El primer paso sería clasificar todas las reseñas en categorías positivas y negativas. Luego, puede analizar fácilmente cuántas personas no quedaron satisfechas y por qué. Este proceso de categorizar textos en diferentes grupos / etiquetas se denomina Clasificación de texto.\n",
    "\n",
    "La clasificación de texto se puede realizar de diferentes formas. Aquí, usaremos el paquete spaCy para clasificar textos. spaCy se ha convertido en una biblioteca muy popular para NLP y proporciona componentes de última generación. Para casos prácticos, se prefiere principalmente utilizar un modelo personalizado entrenado para la clasificación. Primero, permítanme presentarles qué es un modelo personalizado y por qué lo necesitamos en la siguiente sección."
   ]
  },
  {
   "cell_type": "markdown",
   "metadata": {},
   "source": [
    "## <font size='5' color='blue'>Contenidos</font> \n",
    "1. [Introduccion](#Introduction)  \n",
    "    1.1  [Spacy](#What_is_it)  \n",
    "    1.2  [Caso de uso típico para la clasificación de texto](#typical_case)  \n",
    "2. [¿Qué es el modelo de clasificador de texto personalizado?](#What_is_model)  \n",
    "\n",
    "3. [Introducción a la clasificación de texto personalizada en spaC](#Introduction_classification)\n",
    "4. [Cómo preparar datos de entrenamiento en el formato deseado](#How_repare) \n",
    "  \n",
    "5. [¿Cómo escribir la función de evaluación?](#how_write)    \n",
    "\n",
    "6. [Entrenamiento del modelo e impresión de puntajes de evaluación](#training)     \n",
    "  \n",
    "7. [Pruebe el modelo con nuevos ejemplos](#test)     \n"
   ]
  },
  {
   "cell_type": "markdown",
   "metadata": {},
   "source": [
    "# 2. <a id='What_is_model'>¿Qué es un modelo de clasificador de texto personalizado? 🤔  </a>\n",
    "\n",
    "\n",
    "Digamos que tiene un montón de reseñas de películas / reseñas de clientes. Desea clasificar cada reseña como positiva o negativa. Si usa el categorizador predeterminado de spaCy, es probable que el resultado no sea excelente. En cambio, ¿qué pasa si recopila un conjunto de datos etiquetados de reseñas de clientes / películas y entrena a su modelo en eso?\n",
    "\n",
    "¡Los resultados serán mucho mejores y precisos! Puede hacer esto entrenando un clasificador de texto personalizado. Primero lo entrena en conjuntos de datos etiquetados relevantes y lo prepara para nuestro uso en un contexto similar. Es muy útil, especialmente en casos donde la cantidad de datos es enorme.\n",
    "\n",
    "En las siguientes secciones, lo guiaré paso a paso sobre cómo entrenar su modelo de clasificación de texto en spaCy."
   ]
  },
  {
   "cell_type": "markdown",
   "metadata": {},
   "source": [
    "# 3. <a id='Introduction_classification'>Introducción a la clasificación de texto personalizada en spaCy 🤓  </a>\n",
    "\n",
    "**Instalación**\n",
    "\n",
    "> ``conda install -c conda-forge spacy``\n",
    "\n",
    "**Descripción**\n",
    "\n",
    "spaCy es una biblioteca avanzada para realizar tareas de PNL como clasificación. Una razón importante por la que se prefiere mucho spaCy es que permite construir o ampliar fácilmente un modelo de clasificación de texto. Usaremos esta función.\n",
    "\n",
    "Ahora, demostraré cómo entrenar el clasificador de texto usando un ejemplo real. Considere que tiene datos de texto que contienen reseñas personalizadas de telas de una empresa. La tarea es utilizar estos datos y entrenar nuestro modelo en ellos. Por último, el modelo debería poder clasificar una nueva revisión invisible como positiva / negativa.\n",
    "\n",
    "Puede descargar el conjunto de datos que contiene reseñas sobre ropa [aquí](https://raw.githubusercontent.com/hanzhang0420/Women-Clothing-E-commerce/master/Womens%20Clothing%20E-Commerce%20Reviews.csv) . Lea el conjunto de datos en un CSV y vea el contenido. Para nuestra tarea, solo necesitamos 2 columnas. **\" Review Text \"** columna que contiene reseñas de productos y **\" Recommended IND \"** columna que almacena etiquetas. Extraigamos estas columnas con pandas-dataframe."
   ]
  },
  {
   "cell_type": "code",
   "execution_count": 7,
   "metadata": {},
   "outputs": [
    {
     "data": {
      "text/html": [
       "<div>\n",
       "<style scoped>\n",
       "    .dataframe tbody tr th:only-of-type {\n",
       "        vertical-align: middle;\n",
       "    }\n",
       "\n",
       "    .dataframe tbody tr th {\n",
       "        vertical-align: top;\n",
       "    }\n",
       "\n",
       "    .dataframe thead th {\n",
       "        text-align: right;\n",
       "    }\n",
       "</style>\n",
       "<table border=\"1\" class=\"dataframe\">\n",
       "  <thead>\n",
       "    <tr style=\"text-align: right;\">\n",
       "      <th></th>\n",
       "      <th>Review Text</th>\n",
       "      <th>Recommended IND</th>\n",
       "    </tr>\n",
       "  </thead>\n",
       "  <tbody>\n",
       "    <tr>\n",
       "      <th>0</th>\n",
       "      <td>Absolutely wonderful - silky and sexy and comf...</td>\n",
       "      <td>1</td>\n",
       "    </tr>\n",
       "    <tr>\n",
       "      <th>1</th>\n",
       "      <td>Love this dress!  it's sooo pretty.  i happene...</td>\n",
       "      <td>1</td>\n",
       "    </tr>\n",
       "    <tr>\n",
       "      <th>2</th>\n",
       "      <td>I had such high hopes for this dress and reall...</td>\n",
       "      <td>0</td>\n",
       "    </tr>\n",
       "    <tr>\n",
       "      <th>3</th>\n",
       "      <td>I love, love, love this jumpsuit. it's fun, fl...</td>\n",
       "      <td>1</td>\n",
       "    </tr>\n",
       "    <tr>\n",
       "      <th>4</th>\n",
       "      <td>This shirt is very flattering to all due to th...</td>\n",
       "      <td>1</td>\n",
       "    </tr>\n",
       "    <tr>\n",
       "      <th>5</th>\n",
       "      <td>I love tracy reese dresses, but this one is no...</td>\n",
       "      <td>0</td>\n",
       "    </tr>\n",
       "    <tr>\n",
       "      <th>6</th>\n",
       "      <td>I aded this in my basket at hte last mintue to...</td>\n",
       "      <td>1</td>\n",
       "    </tr>\n",
       "    <tr>\n",
       "      <th>7</th>\n",
       "      <td>I ordered this in carbon for store pick up, an...</td>\n",
       "      <td>1</td>\n",
       "    </tr>\n",
       "    <tr>\n",
       "      <th>8</th>\n",
       "      <td>I love this dress. i usually get an xs but it ...</td>\n",
       "      <td>1</td>\n",
       "    </tr>\n",
       "    <tr>\n",
       "      <th>9</th>\n",
       "      <td>I'm 5\"5' and 125 lbs. i ordered the s petite t...</td>\n",
       "      <td>1</td>\n",
       "    </tr>\n",
       "  </tbody>\n",
       "</table>\n",
       "</div>"
      ],
      "text/plain": [
       "                                         Review Text  Recommended IND\n",
       "0  Absolutely wonderful - silky and sexy and comf...                1\n",
       "1  Love this dress!  it's sooo pretty.  i happene...                1\n",
       "2  I had such high hopes for this dress and reall...                0\n",
       "3  I love, love, love this jumpsuit. it's fun, fl...                1\n",
       "4  This shirt is very flattering to all due to th...                1\n",
       "5  I love tracy reese dresses, but this one is no...                0\n",
       "6  I aded this in my basket at hte last mintue to...                1\n",
       "7  I ordered this in carbon for store pick up, an...                1\n",
       "8  I love this dress. i usually get an xs but it ...                1\n",
       "9  I'm 5\"5' and 125 lbs. i ordered the s petite t...                1"
      ]
     },
     "execution_count": 7,
     "metadata": {},
     "output_type": "execute_result"
    }
   ],
   "source": [
    "# Import pandas & read csv file\n",
    "import pandas as pd\n",
    "reviews=pd.read_csv(\"https://raw.githubusercontent.com/hanzhang0420/Women-Clothing-E-commerce/master/Womens%20Clothing%20E-Commerce%20Reviews.csv\")\n",
    "\n",
    "# Extract desired columns and view the dataframe \n",
    "reviews = reviews[['Review Text','Recommended IND']].dropna()\n",
    "reviews.head(10)"
   ]
  },
  {
   "cell_type": "markdown",
   "metadata": {},
   "source": [
    "Puede observar que para las revisiones positivas la etiqueta es 1 y para las críticas negativas es 0. Necesitamos entrenar al modelo para que pueda categorizar las nuevas revisiones no vistas.\n",
    "\n",
    "Estos son los datos sin procesar que tenemos. Como estamos usando **spacy**, para entrenar nuestro modelo, importemos el paquete. Después de importar, puede cargar un modelo previamente entrenado como `\"en_core_web_sm\"`. Agregaremos / modificaremos el clasificador de texto de este modelo más adelante. Para cualquier modelo **spacy**, puede ver los componentes presentes con el metodo `pipe_names`."
   ]
  },
  {
   "cell_type": "code",
   "execution_count": 10,
   "metadata": {},
   "outputs": [
    {
     "data": {
      "text/plain": [
       "['tagger', 'parser', 'ner']"
      ]
     },
     "execution_count": 10,
     "metadata": {},
     "output_type": "execute_result"
    }
   ],
   "source": [
    "# Import spaCy ,load model\n",
    "import spacy\n",
    "\n",
    "nlp=spacy.load(\"en_core_web_sm\")\n",
    "nlp.pipe_names"
   ]
  },
  {
   "cell_type": "markdown",
   "metadata": {},
   "source": [
    "Puede ver que tiene 'tagger', 'parser' y 'ner'. No tiene clasificador de texto. Entonces, agreguemos el componente de canalización **`textcat`** incorporado de spaCy para la clasificación de texto a nuestro modelo. El método **`add_pipe()`** se puede utilizar para esto."
   ]
  },
  {
   "cell_type": "code",
   "execution_count": 12,
   "metadata": {},
   "outputs": [
    {
     "data": {
      "text/plain": [
       "['tagger', 'parser', 'ner', 'textcat']"
      ]
     },
     "execution_count": 12,
     "metadata": {},
     "output_type": "execute_result"
    }
   ],
   "source": [
    "# Adding the built-in textcat component to the pipeline.\n",
    "\n",
    "textcat=nlp.create_pipe( \"textcat\", config={\"exclusive_classes\": True, \"architecture\": \"simple_cnn\"})\n",
    "nlp.add_pipe(textcat, last=True)\n",
    "nlp.pipe_names"
   ]
  },
  {
   "cell_type": "markdown",
   "metadata": {},
   "source": [
    "Ahora, vamos a entrenar al **textcat** con nuestro conjunto de datos de revisiones usando la arquitectura **simple_cnn**."
   ]
  },
  {
   "cell_type": "markdown",
   "metadata": {},
   "source": [
    "Primero, debe agregar las etiquetas deseadas al componente de canalización. En este caso, es **POSITIVO** y **NEGATIVO** según las revisiones. Agregue estas etiquetas a **textcat** usando la función **`add_label`**."
   ]
  },
  {
   "cell_type": "code",
   "execution_count": 13,
   "metadata": {},
   "outputs": [
    {
     "data": {
      "text/plain": [
       "1"
      ]
     },
     "execution_count": 13,
     "metadata": {},
     "output_type": "execute_result"
    }
   ],
   "source": [
    "# Adding the labels to textcat\n",
    "textcat.add_label(\"POSITIVE\")\n",
    "textcat.add_label(\"NEGATIVE\")"
   ]
  },
  {
   "cell_type": "markdown",
   "metadata": {},
   "source": [
    "# 4. <a id='How_repare'>Cómo preparar los datos de entrenamiento en el formato deseado? 🛫 </a>\n",
    "\n",
    "Su modelo predeterminado con **textcat** está listo, solo necesita preparar los datos en el formato requerido.\n",
    "\n",
    "Puede escribir una función **`load_data()`** que toma una lista de tuplas como entrada. Cada tupla contiene el texto y el valor de la etiqueta (0 o 1). El siguiente código demuestra cómo convertir nuestro conjunto de datos de revisiones en este formato deseado"
   ]
  },
  {
   "cell_type": "code",
   "execution_count": 14,
   "metadata": {},
   "outputs": [
    {
     "data": {
      "text/plain": [
       "[('Absolutely wonderful - silky and sexy and comfortable', 1),\n",
       " ('Love this dress!  it\\'s sooo pretty.  i happened to find it in a store, and i\\'m glad i did bc i never would have ordered it online bc it\\'s petite.  i bought a petite and am 5\\'8\".  i love the length on me- hits just a little below the knee.  would definitely be a true midi on someone who is truly petite.',\n",
       "  1),\n",
       " ('I had such high hopes for this dress and really wanted it to work for me. i initially ordered the petite small (my usual size) but i found this to be outrageously small. so small in fact that i could not zip it up! i reordered it in petite medium, which was just ok. overall, the top half was comfortable and fit nicely, but the bottom half had a very tight under layer and several somewhat cheap (net) over layers. imo, a major design flaw was the net over layer sewn directly into the zipper - it c',\n",
       "  0),\n",
       " (\"I love, love, love this jumpsuit. it's fun, flirty, and fabulous! every time i wear it, i get nothing but great compliments!\",\n",
       "  1),\n",
       " ('This shirt is very flattering to all due to the adjustable front tie. it is the perfect length to wear with leggings and it is sleeveless so it pairs well with any cardigan. love this shirt!!!',\n",
       "  1),\n",
       " ('I love tracy reese dresses, but this one is not for the very petite. i am just under 5 feet tall and usually wear a 0p in this brand. this dress was very pretty out of the package but its a lot of dress. the skirt is long and very full so it overwhelmed my small frame. not a stranger to alterations, shortening and narrowing the skirt would take away from the embellishment of the garment. i love the color and the idea of the style but it just did not work on me. i returned this dress.',\n",
       "  0),\n",
       " ('I aded this in my basket at hte last mintue to see what it would look like in person. (store pick up). i went with teh darkler color only because i am so pale :-) hte color is really gorgeous, and turns out it mathced everythiing i was trying on with it prefectly. it is a little baggy on me and hte xs is hte msallet size (bummer, no petite). i decided to jkeep it though, because as i said, it matvehd everything. my ejans, pants, and the 3 skirts i waas trying on (of which i ]kept all ) oops.',\n",
       "  1),\n",
       " (\"I ordered this in carbon for store pick up, and had a ton of stuff (as always) to try on and used this top to pair (skirts and pants). everything went with it. the color is really nice charcoal with shimmer, and went well with pencil skirts, flare pants, etc. my only compaint is it is a bit big, sleeves are long and it doesn't go in petite. also a bit loose for me, but no xxs... so i kept it and wil ldecide later since the light color is already sold out in hte smallest size...\",\n",
       "  1),\n",
       " ('I love this dress. i usually get an xs but it runs a little snug in bust so i ordered up a size. very flattering and feminine with the usual retailer flair for style.',\n",
       "  1),\n",
       " ('I\\'m 5\"5\\' and 125 lbs. i ordered the s petite to make sure the length wasn\\'t too long. i typically wear an xs regular in retailer dresses. if you\\'re less busty (34b cup or smaller), a s petite will fit you perfectly (snug, but not tight). i love that i could dress it up for a party, or down for work. i love that the tulle is longer then the fabric underneath.',\n",
       "  1)]"
      ]
     },
     "execution_count": 14,
     "metadata": {},
     "output_type": "execute_result"
    }
   ],
   "source": [
    "# Converting the dataframe into a list of tuples\n",
    "reviews['tuples'] = reviews.apply(lambda row: (row['Review Text'],row['Recommended IND']), axis=1)\n",
    "train =reviews['tuples'].tolist()\n",
    "train[:10]"
   ]
  },
  {
   "cell_type": "markdown",
   "metadata": {},
   "source": [
    "A continuación, puede pasar los datos del `train` como entrada a la función  **`load_data()`**."
   ]
  },
  {
   "cell_type": "markdown",
   "metadata": {},
   "source": [
    "La función **`load_data()`** realiza las siguientes funciones:\n",
    "- Mezclar los datos usando la función **`random.shuffle()`** Esto evita cualquier entrenamiento basado en el orden de los ejemplos.\n",
    "- Para cada tupla en los datos de entrada, la categoría se asigna como \"POSITIVA\" o \"NEGATIVA\" según el valor de la etiqueta y se almacena en **`cats`** \n",
    "- El 80% de los datos de entrada se utilizará para formación, mientras que el 20% para evaluación. Puede cambiar esta proporción utilizando el parámetro **`split`**.\n",
    "\n",
    "Después de definir la función, pase la lista de tuplas a la función anterior. La función te devolverá los textos y los - Para cada tupla en los datos de entrada, la categoría se asigna como \"POSITIVA\" o \"NEGATIVA\" según el valor de la etiqueta y se almacena en **`cats`** tanto para entrenamiento como para evaluación. Puede usarlos para obtener los datos de entrenamiento finales como se muestra en el código a continuación."
   ]
  },
  {
   "cell_type": "code",
   "execution_count": 15,
   "metadata": {},
   "outputs": [
    {
     "data": {
      "text/plain": [
       "[(\"This is a super cute, adorable and flattering maxi. it's very comfortable and soft. i stayed tts in this dress... the length hit just right .. ...perfect for summer\",\n",
       "  {'cats': {'POSITIVE': True, 'NEGATIVE': False}}),\n",
       " (\"What?! i can't believe this got so many mixed reviews! i wasn't sure what to expect and now that i've received it, i think it's absolutely perfect. it's flattering, the length is great, it's tts, and the color is beautiful. i have no issues with the skirt whatsoever either.  i'm really pleased with this purchase and i can't wait to wear it.\",\n",
       "  {'cats': {'POSITIVE': True, 'NEGATIVE': False}}),\n",
       " (\"I wanted to like this top, especially because of its comfortable material and color, but the asymmetrical shape didn't hang well on me. it also runs big - i got a small, and although the bodice fit okay, the sleeves were long, and the bottom of the top looked mishaped and dumpy. this top will be going back.\",\n",
       "  {'cats': {'POSITIVE': False, 'NEGATIVE': True}}),\n",
       " ('I am a small, athletic build and typically wear an xsmall in tops. naturally, in something with a more straight fit and blousy shape, an xsmall would be appropriate. i ordered it and was super bummed. the lace detail made the collar lay funny and the shoulders were too tight. i liked the sheer fabric though and the lace details and decided to order a size up. i am so glad i did because everything laid like it was supposed to. this top is beautiful with a sexy, but refined look. i plan to dress i',\n",
       "  {'cats': {'POSITIVE': True, 'NEGATIVE': False}}),\n",
       " ('I just recently received this dress in the mail. i went up a size to a 10, i am usually a 6 or 8. it fit perfectly. the top is very fitted and the bottom flows nicely. i really like this dress and am looking forward to wearing it to work or out.',\n",
       "  {'cats': {'POSITIVE': True, 'NEGATIVE': False}}),\n",
       " ('This is a great dress that can be dressed up or worn with flip flops. i also love that it has pockets :)',\n",
       "  {'cats': {'POSITIVE': True, 'NEGATIVE': False}}),\n",
       " ('Gorgeous dress. ordered the orange in an xs. i\\'m usually a small in retailer but the reviews accurately assessed this dress to run large. i\\'m 5\\'7\" about 140lbs and this dress is just above my knee. very flattering and feminine. only issue is that the bottom is a thin material that can be see through in the right light...',\n",
       "  {'cats': {'POSITIVE': True, 'NEGATIVE': False}}),\n",
       " ('Really cute over my white cropped pilcro jeans. or as a beach cover up over a bathing suit. i want this in more colors!',\n",
       "  {'cats': {'POSITIVE': True, 'NEGATIVE': False}}),\n",
       " (\"I love pilcro jeans and usually wear the stet fit. this is the first pair that i've owned that had so much stretch. they stretch and do lose their shape slightly, but bounce back after a wash. my main complaint may be stretch-related: after the first wear, the inner thigh area was covered in pills. granted, my inner thighs touch when i walk, but this has never happened with any other pair of pilcro that i've owned. i still have a pair of black stet that i bought 4yrs ago and they've never shown\",\n",
       "  {'cats': {'POSITIVE': False, 'NEGATIVE': True}}),\n",
       " (\"I absolutely love this top! i often shop the sale items first, but when i saw this top in the store, i didn't hesitate to pay full price. the material reminds me of vintage clothing - it is a dry clean only item, but is so special that it's worth it. the colors and construction (beautifully lined, bias trim) are impressive. and, this top looks better on me than on the model:)\",\n",
       "  {'cats': {'POSITIVE': True, 'NEGATIVE': False}})]"
      ]
     },
     "execution_count": 15,
     "metadata": {},
     "output_type": "execute_result"
    }
   ],
   "source": [
    "import random\n",
    "\n",
    "def load_data(limit=0, split=0.8):\n",
    "    train_data=train\n",
    "    # Shuffle the data\n",
    "    random.shuffle(train_data)\n",
    "    texts, labels = zip(*train_data)\n",
    "    # get the categories for each review\n",
    "    cats = [{\"POSITIVE\": bool(y), \"NEGATIVE\": not bool(y)} for y in labels]\n",
    "\n",
    "    # Splitting the training and evaluation data\n",
    "    split = int(len(train_data) * split)\n",
    "    return (texts[:split], cats[:split]), (texts[split:], cats[split:])\n",
    "\n",
    "n_texts=23486\n",
    "\n",
    "# Calling the load_data() function \n",
    "(train_texts, train_cats), (dev_texts, dev_cats) = load_data(limit=n_texts)\n",
    "\n",
    "# Processing the final format of training data\n",
    "train_data = list(zip(train_texts,[{'cats': cats} for cats in train_cats]))\n",
    "train_data[:10]"
   ]
  },
  {
   "cell_type": "markdown",
   "metadata": {},
   "source": [
    "La salida anterior le muestra el formato de los datos finales de entrenamiento deseados."
   ]
  },
  {
   "cell_type": "markdown",
   "metadata": {},
   "source": [
    "# 5. <a id='how_write'>¿Cómo escribir la función de evaluación? 🤯 </a>\n",
    "\n",
    "Hasta ahora, hemos preparado los datos de entrenamiento en el formato deseado y los hemos almacenado en la variable **`train_data`**. Además, tenemos el componente clasificador de texto del modelo en **`textcat`**. Entonces, podemos proceder a entrenar el textcat en nuestro train_data. Pero, ¿no hay algo que nos falta?\n",
    "\n",
    "Para cualquier modelo que vayamos a entrenar, es importante verificar si cumple con nuestras expectativas. A esto se le llama evaluar el modelo. Este es un paso opcional pero muy recomendable para obtener mejores resultados. Si recuerda, la función **`load_data()`** dividió alrededor del 20% de los datos originales para su evaluación. Usaremos esto para probar qué tan bueno fue el entrenamiento.\n",
    "\n",
    "Entonces, permítame guiarlo sobre cómo escribir una función **`evaluate()`** que pueda realizar este proceso de evaluación. Llamaremos a esta función de **`evaluate()`** más adelante durante el entrenamiento para ver el rendimiento.\n",
    "\n",
    "Esta función tomará el textcat y los datos de evaluación como entrada. Para cada uno de los textos de los datos de evaluación, lee la puntuación de las predicciones realizadas. Y en base a esto, calcula los valores de Verdadero positivo, Verdadero negativo, Falso positivo y falso negativo.\n",
    "\n",
    "¿Qué significan los términos anteriores?\n",
    "\n",
    "   * Verdadero positivo (tp): si la etiqueta real es 1 y la predicción también es 1\n",
    "   * Verdadero negativo (tn): si la etiqueta real es un 0 y la predicción también es 0\n",
    "   * Falso positivo (fp): si la etiqueta real es un 0, pero la predicción es 1\n",
    "   * Falso negativo (fn): si la etiqueta real es 1, pero la predicción es 0\n",
    "\n",
    "<img src=\"./images/confusion-matrix-300x213.jpg\" />\n"
   ]
  },
  {
   "cell_type": "markdown",
   "metadata": {},
   "source": [
    "¿Cómo asignar una puntuación basada en estos términos?\n",
    "\n",
    "Una vez que obtenga los valores anteriores basados en las predicciones realizadas por el modelo, puede encontrar los puntajes de las métricas de evaluación. Estas puntuaciones métricas son para indicarle qué tan bueno es el modelo.\n",
    "\n",
    "La precisión consiste en encontrar qué porcentaje de las predicciones positivas (1) del modelo son precisas. Supongamos que tiene un modelo con alta precisión, también quiero saber qué porcentaje de TODOS los 1 se cubrió. Esto se denomina Recall\n",
    "\n",
    "Un buen modelo debe tener una buena precisión y una alto Recall. Entonces, idealmente, quiero tener una medida que combine ambos aspectos en una sola métrica: la F1 Score.\n",
    "\n",
    "\n",
    "$F1 Score = (2 * Precision * Recall) / (Precision + Recall)$\n",
    "\n",
    "Si desea obtener más claridad sobre la métrica de evaluación, consulte [varias métricas de evaluación para la clasificación.](https://www.machinelearningplus.com/machine-learning/evaluation-metrics-classification-models-r/)  \n",
    "\n",
    "\n",
    "El siguiente código escribe una función **`evaluate()`**  que puede realizar la evaluación discutida anteriormente cuando se llama."
   ]
  },
  {
   "cell_type": "code",
   "execution_count": 17,
   "metadata": {},
   "outputs": [],
   "source": [
    "def evaluate(tokenizer, textcat, texts, cats):\n",
    "    docs = (tokenizer(text) for text in texts)\n",
    "    tp = 0.0  # True positives\n",
    "    fp = 1e-8  # False positives\n",
    "    fn = 1e-8  # False negatives\n",
    "    tn = 0.0  # True negatives\n",
    "    for i, doc in enumerate(textcat.pipe(docs)):\n",
    "        gold = cats[i]\n",
    "        for label, score in doc.cats.items():\n",
    "            if label not in gold:\n",
    "                continue\n",
    "            if label == \"NEGATIVE\":\n",
    "                continue\n",
    "            if score >= 0.5 and gold[label] >= 0.5:\n",
    "                tp += 1.0\n",
    "            elif score >= 0.5 and gold[label] < 0.5:\n",
    "                fp += 1.0\n",
    "            elif score < 0.5 and gold[label] < 0.5:\n",
    "                tn += 1\n",
    "            elif score < 0.5 and gold[label] >= 0.5:\n",
    "                fn += 1\n",
    "    precision = tp / (tp + fp)\n",
    "    recall = tp / (tp + fn)\n",
    "    if (precision + recall) == 0:\n",
    "        f_score = 0.0\n",
    "    else:\n",
    "        f_score = 2 * (precision * recall) / (precision + recall)\n",
    "    return {\"textcat_p\": precision, \"textcat_r\": recall, \"textcat_f\": f_score}"
   ]
  },
  {
   "cell_type": "code",
   "execution_count": 18,
   "metadata": {},
   "outputs": [],
   "source": [
    "#(\"Number of training iterations\", \"n\", int))\n",
    "n_iter=10"
   ]
  },
  {
   "cell_type": "markdown",
   "metadata": {},
   "source": [
    "¡La función de evaluación también está lista! Es hora de llegar al entrenamiento final."
   ]
  },
  {
   "cell_type": "markdown",
   "metadata": {},
   "source": [
    "# 6. <a id='training'>Entrenamiento del modelo e impresión de puntajes de evaluación ⚙️ </a>\n",
    "\n",
    "Los datos se almacenan en la variable **`train_data()`**  y el componente en **`texcat`** .\n",
    "\n",
    "Antes de entrenar, debe deshabilitar los otros componentes de la canalización, excepto textcat. Esto es para evitar que los otros componentes se vean afectados durante el entrenamiento. Se puede lograr mediante el método **`disable_pipes()`** . A continuación, use la función **`begin_training()`** que le devolverá un optimizador.\n",
    "\n",
    "También puede fijar el número de veces que desea iterar el modelo sobre los ejemplos usando el parámetro **`n_iter`**. Debería ser óptimo. En cada iteración, recorremos los ejemplos de entrenamiento y los dividimos en lotes usando el minibatch de spaCy y los asistentes de composición.\n",
    "\n",
    "La función **`minibatch()`** de spaCy le devolverá los datos de entrenamiento en lotes. Toma el parámetro de tamaño para indicar el tamaño del lote. Puede hacer uso de la función de utilidad **`compounding()`** para generar una serie infinita de valores compuestos.\n",
    "\n",
    "1. La función de **`compounding()`** toma tres entradas que son start  (el primer valor entero), stop  (el valor máximo que se puede generar) yfinally compound. Este valor almacenado en compuesto es el factor de capitalización de la serie. Si no lo tiene claro, consulte este [enlace](https://spacy.io/api/top-level#util) para comprenderlo.\n",
    "\n",
    "Para cada iteración, el modelo se actualiza mediante el comando **`nlp.update()`**. Los parámetros de **`nlp.update()`** son:\n",
    "\n",
    "1. **`docs`**: esto espera un lote de textos como entrada. Puede pasar cada lote al método zip, que le devolverá lotes de texto y anotaciones.\n",
    "\n",
    "2. **`golds`**: puede pasar las anotaciones que obtuvimos a través del método zip aquí\n",
    "\n",
    "3. **`drop`**: Esto representa la tasa de abandono.\n",
    "\n",
    "4. **`losses`**: un diccionario para mantener las pérdidas de cada componente de la tubería. Crea un diccionario vacío y pásalo aquí.\n",
    "\n",
    "El entrenamiento está completo ahora. Puede evaluar las predicciones hechas por el modelo llamando a la función  **`evaluate()`**  que definimos en la sección anterior."
   ]
  },
  {
   "cell_type": "code",
   "execution_count": 19,
   "metadata": {},
   "outputs": [
    {
     "name": "stdout",
     "output_type": "stream",
     "text": [
      "Training the model...\n",
      "LOSS \t  P  \t  R  \t  F  \n",
      "8.697\t0.904\t0.962\t0.932\n",
      "5.903\t0.910\t0.962\t0.935\n",
      "4.255\t0.916\t0.960\t0.938\n",
      "3.289\t0.921\t0.955\t0.938\n",
      "2.694\t0.923\t0.955\t0.939\n",
      "2.266\t0.922\t0.953\t0.937\n",
      "1.892\t0.922\t0.951\t0.936\n",
      "1.476\t0.924\t0.950\t0.937\n",
      "1.343\t0.923\t0.948\t0.935\n",
      "1.134\t0.924\t0.947\t0.935\n"
     ]
    }
   ],
   "source": [
    "from spacy.util import minibatch, compounding\n",
    "\n",
    "# Disabling other components\n",
    "other_pipes = [pipe for pipe in nlp.pipe_names if pipe != 'textcat']\n",
    "with nlp.disable_pipes(*other_pipes):  # only train textcat\n",
    "    optimizer = nlp.begin_training()\n",
    "\n",
    "    print(\"Training the model...\")\n",
    "    print('{:^5}\\t{:^5}\\t{:^5}\\t{:^5}'.format('LOSS', 'P', 'R', 'F'))\n",
    "\n",
    "    # Performing training\n",
    "    for i in range(n_iter):\n",
    "        losses = {}\n",
    "        batches = minibatch(train_data, size=compounding(4., 32., 1.001))\n",
    "        for batch in batches:\n",
    "            texts, annotations = zip(*batch)\n",
    "            nlp.update(texts, annotations, sgd=optimizer, drop=0.2,\n",
    "                       losses=losses)\n",
    "\n",
    "      # Calling the evaluate() function and printing the scores\n",
    "        with textcat.model.use_params(optimizer.averages):\n",
    "            scores = evaluate(nlp.tokenizer, textcat, dev_texts, dev_cats)\n",
    "        print('{0:.3f}\\t{1:.3f}\\t{2:.3f}\\t{3:.3f}'  \n",
    "              .format(losses['textcat'], scores['textcat_p'],\n",
    "                      scores['textcat_r'], scores['textcat_f']))"
   ]
  },
  {
   "cell_type": "markdown",
   "metadata": {},
   "source": [
    "Puede observar las puntuaciones de la evaluación. ¡Tanto la formación como la evaluación están completas!"
   ]
  },
  {
   "cell_type": "markdown",
   "metadata": {},
   "source": [
    "# 7. <a id='test'>Pruebe el modelo con nuevos ejemplos 🧪</a>\n",
    "\n",
    "¡Finalmente, aquí estamos! El modelo está listo para usar ahora.\n",
    "\n",
    "Puede crear un documento espacial de cualquier revisión de ropa nueva que no se haya visto. La clasificación o predicción del mismo se almacenará en el atributo doc.cats. El atributo Docs.cats almacena un diccionario que asigna una etiqueta a una puntuación para las categorías aplicadas al documento."
   ]
  },
  {
   "cell_type": "code",
   "execution_count": 21,
   "metadata": {},
   "outputs": [
    {
     "data": {
      "text/plain": [
       "{'POSITIVE': 2.7312538009027776e-07, 'NEGATIVE': 0.9999997615814209}"
      ]
     },
     "execution_count": 21,
     "metadata": {},
     "output_type": "execute_result"
    }
   ],
   "source": [
    "# Testing the model\n",
    "test_text=\"I hate this dress\"\n",
    "doc=nlp(test_text)\n",
    "doc.cats "
   ]
  },
  {
   "cell_type": "markdown",
   "metadata": {},
   "source": [
    "Puede ver que la puntuación 'NEGATIVA' es alta, lo que lo clasifica como una revisión negativa. Esta salida está de acuerdo con nuestras expectativas. ¡Hurra!"
   ]
  },
  {
   "cell_type": "markdown",
   "metadata": {},
   "source": [
    "#  <a>Conclusión</a>\n",
    "\n",
    "Espero que haya entendido cómo entrenar un modelo de clasificación de texto personalizado con spaCy. Esto tiene amplias aplicaciones en todos los campos."
   ]
  }
 ],
 "metadata": {
  "kernelspec": {
   "display_name": "Python 3",
   "language": "python",
   "name": "python3"
  },
  "language_info": {
   "codemirror_mode": {
    "name": "ipython",
    "version": 3
   },
   "file_extension": ".py",
   "mimetype": "text/x-python",
   "name": "python",
   "nbconvert_exporter": "python",
   "pygments_lexer": "ipython3",
   "version": "3.8.5"
  },
  "widgets": {
   "application/vnd.jupyter.widget-state+json": {
    "state": {},
    "version_major": 2,
    "version_minor": 0
   }
  }
 },
 "nbformat": 4,
 "nbformat_minor": 4
}
